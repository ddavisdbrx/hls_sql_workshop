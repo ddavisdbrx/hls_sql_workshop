{
 "cells": [
  {
   "cell_type": "code",
   "execution_count": 0,
   "metadata": {
    "application/vnd.databricks.v1+cell": {
     "cellMetadata": {
      "byteLimit": 2048000,
      "rowLimit": 10000
     },
     "inputWidgets": {},
     "nuid": "88d94c10-734f-4592-8ac5-bf3b10027d37",
     "showTitle": false,
     "tableResultSettingsMap": {},
     "title": ""
    }
   },
   "outputs": [],
   "source": [
    "%python\n",
    "catalog = 'hls_de_workshop_dev'\n",
    "\n",
    "spark.sql(f\"use catalog {catalog}\")"
   ]
  },
  {
   "cell_type": "code",
   "execution_count": 0,
   "metadata": {
    "application/vnd.databricks.v1+cell": {
     "cellMetadata": {
      "byteLimit": 2048000,
      "rowLimit": 10000
     },
     "inputWidgets": {},
     "nuid": "7f6af488-20ef-4fc4-8513-e48eac027e75",
     "showTitle": false,
     "tableResultSettingsMap": {},
     "title": ""
    }
   },
   "outputs": [],
   "source": [
    "create schema if not exists metadata_framework"
   ]
  },
  {
   "cell_type": "code",
   "execution_count": 0,
   "metadata": {
    "application/vnd.databricks.v1+cell": {
     "cellMetadata": {
      "byteLimit": 2048000,
      "rowLimit": 10000
     },
     "inputWidgets": {},
     "nuid": "e3e6d09a-52e9-4092-905d-400da17243f9",
     "showTitle": false,
     "tableResultSettingsMap": {},
     "title": ""
    }
   },
   "outputs": [],
   "source": [
    "create or replace table metadata_framework.metadata\n",
    "(\n",
    "  table string\n",
    " ,file_location string\n",
    " ,file_type string\n",
    " ,schema_mapping string\n",
    " ,lookups string\n",
    " ,keys string\n",
    " ,sequence string\n",
    " ,drop_expectations string\n",
    " ,is_active int\n",
    ")"
   ]
  },
  {
   "cell_type": "code",
   "execution_count": 0,
   "metadata": {
    "application/vnd.databricks.v1+cell": {
     "cellMetadata": {
      "byteLimit": 2048000,
      "rowLimit": 10000
     },
     "inputWidgets": {},
     "nuid": "353b598b-b991-4dcf-8e8b-a192147f9472",
     "showTitle": false,
     "tableResultSettingsMap": {},
     "title": ""
    }
   },
   "outputs": [],
   "source": [
    "--dates are current set to strings, need to add logic later\n",
    "--same with flags\n",
    "insert into metadata_framework.metadata\n",
    "values ('beneficiary'\n",
    ",'${volume_path}/beneficiary/'\n",
    ",'CSV'\n",
    ",'''[{\"source_column\": \"DESYNPUF_ID\", \"new_column\": \"beneficiary_code\", \"data_type\": \"string\"},\n",
    "     {\"source_column\": \"BENE_BIRTH_DT\", \"new_column\": \"date_of_birth\", \"data_type\": \"string\"},\n",
    "     {\"source_column\": \"BENE_DEATH_DT\", \"new_column\": \"date_of_death\", \"data_type\": \"string\"},\n",
    "     {\"source_column\": \"BENE_SEX_IDENT_CD\", \"new_column\": \"BENE_SEX_IDENT_CD\", \"data_type\": \"string\"},\n",
    "     {\"source_column\": \"BENE_RACE_CD\", \"new_column\": \"BENE_RACE_CD\", \"data_type\": \"string\"},\n",
    "     {\"source_column\": \"BENE_ESRD_IND\", \"new_column\": \"esrd_flag\", \"data_type\": \"string\"},\n",
    "     {\"source_column\": \"SP_STATE_CODE\", \"new_column\": \"SP_STATE_CODE\", \"data_type\": \"string\"},\n",
    "     {\"source_column\": \"BENE_COUNTY_CD\", \"new_column\": \"BENE_COUNTY_CD\", \"data_type\": \"string\"},\n",
    "     {\"source_column\": \"BENE_HI_CVRAGE_TOT_MONS\", \"new_column\": \"part_a_coverage_months\", \"data_type\": \"int\"},\n",
    "     {\"source_column\": \"BENE_SMI_CVRAGE_TOT_MONS\", \"new_column\": \"part_b_coverage_months\", \"data_type\": \"int\"},\n",
    "     {\"source_column\": \"BENE_HMO_CVRAGE_TOT_MONS\", \"new_column\": \"hmo_coverage_months\", \"data_type\": \"int\"},\n",
    "     {\"source_column\": \"PLAN_CVRG_MOS_NUM\", \"new_column\": \"part_d_coverage_months\", \"data_type\": \"int\"},\n",
    "     {\"source_column\": \"SP_ALZHDMTA\", \"new_column\": \"SP_ALZHDMTA\", \"data_type\": \"string\"},\n",
    "     {\"source_column\": \"SP_CHF\", \"new_column\": \"SP_CHF\", \"data_type\": \"string\"},\n",
    "     {\"source_column\": \"SP_CHRNKIDN\", \"new_column\": \"SP_CHRNKIDN\", \"data_type\": \"string\"},\n",
    "     {\"source_column\": \"SP_CNCR\", \"new_column\": \"SP_CNCR\", \"data_type\": \"string\"},\n",
    "     {\"source_column\": \"SP_COPD\", \"new_column\": \"SP_COPD\", \"data_type\": \"string\"},\n",
    "     {\"source_column\": \"SP_DEPRESSN\", \"new_column\": \"SP_DEPRESSN\", \"data_type\": \"string\"},\n",
    "     {\"source_column\": \"SP_DIABETES\", \"new_column\": \"SP_DIABETES\", \"data_type\": \"string\"},\n",
    "     {\"source_column\": \"SP_ISCHMCHT\", \"new_column\": \"SP_ISCHMCHT\", \"data_type\": \"string\"},\n",
    "     {\"source_column\": \"SP_OSTEOPRS\", \"new_column\": \"SP_OSTEOPRS\", \"data_type\": \"string\"},\n",
    "     {\"source_column\": \"SP_RA_OA\", \"new_column\": \"SP_RA_OA\", \"data_type\": \"string\"},\n",
    "     {\"source_column\": \"SP_STRKETIA\", \"new_column\": \"SP_STRKETIA\", \"data_type\": \"string\"},\n",
    "     {\"source_column\": \"MEDREIMB_IP\", \"new_column\": \"inpatient_annual_medicare_reimbursement_amount\", \"data_type\": \"double\"},\n",
    "     {\"source_column\": \"BENRES_IP\", \"new_column\": \"inpatient_annual_beneficiary_responsibility_amount\", \"data_type\": \"double\"},\n",
    "     {\"source_column\": \"PPPYMT_IP\", \"new_column\": \"inpatient_annual_payer_reimbursement_amount\", \"data_type\": \"double\"},\n",
    "     {\"source_column\": \"MEDREIMB_OP\", \"new_column\": \"outpatient_institutional_annual_medicare_reimbursement_amount\", \"data_type\": \"double\"},\n",
    "     {\"source_column\": \"BENRES_OP\", \"new_column\": \"outpatient_institutional_annual_beneficiary_responsibiliy_amount\", \"data_type\": \"double\"},\n",
    "     {\"source_column\": \"PPPYMT_OP\", \"new_column\": \"outpatient_institutional_annual_primary_payer_reimbursement_amount\", \"data_type\": \"double\"},\n",
    "     {\"source_column\": \"MEDREIMB_CAR\", \"new_column\": \"carrier_annual_medicare_reimbursement_amount\", \"data_type\": \"double\"},\n",
    "     {\"source_column\": \"BENRES_CAR\", \"new_column\": \"carrier_annual_beneficiary_responsiblity_amount\", \"data_type\": \"double\"},\n",
    "     {\"source_column\": \"PPPYMT_CAR\", \"new_column\": \"carrier_annual_primary_payer_reimbursement_amount\", \"data_type\": \"double\"}\n",
    "     ]'''\n",
    ",'[\n",
    "    {\"BENE_SEX_IDENT_CD\": \"gender\"},\n",
    "    {\"BENE_RACE_CD\": \"race\"},\n",
    "    {\"SP_STATE_CODE\": \"state\"},\n",
    "    {\"SP_ALZHDMTA\": \"alzheimers_or_related_flag\"},\n",
    "    {\"SP_CHF\": \"heart_failure_flag\"},\n",
    "    {\"SP_CHRNKIDN\": \"cronic_kidney_disease_flag\"},\n",
    "    {\"SP_CNCR\": \"cancer_flag\"},\n",
    "    {\"SP_COPD\": \"copd_flag\"},\n",
    "    {\"SP_DEPRESSN\": \"depression_flag\"},\n",
    "    {\"SP_DIABETES\": \"diabetes_flag\"},\n",
    "    {\"SP_ISCHMCHT\": \"ischemic_heart_disease_flag\"},\n",
    "    {\"SP_OSTEOPRS\": \"osteoporosis_flag\"},\n",
    "    {\"SP_RA_OA\": \"rheumatoid_arthritis_flag\"},\n",
    "    {\"SP_STRKETIA\": \"stroke_transient_ischemic_attack_flag\"}\n",
    "]'\n",
    ",'beneficiary_code'\n",
    ",'insert_timestamp'\n",
    ",''\n",
    ",1\n",
    ")"
   ]
  },
  {
   "cell_type": "code",
   "execution_count": 0,
   "metadata": {
    "application/vnd.databricks.v1+cell": {
     "cellMetadata": {
      "byteLimit": 2048000,
      "rowLimit": 10000
     },
     "inputWidgets": {},
     "nuid": "98f1658c-8bfe-4b76-b934-68125a8f54e7",
     "showTitle": false,
     "tableResultSettingsMap": {},
     "title": ""
    }
   },
   "outputs": [],
   "source": [
    "insert into metadata_framework.metadata\n",
    "values ('carrier_claims'\n",
    ",'${volume_path}/carrier_claims/'\n",
    ",'CSV'\n",
    ",'''[{\"source_column\": \"DESYNPUF_ID\", \"new_column\": \"beneficiary_code\", \"data_type\": \"string\"},\n",
    "     {\"source_column\": \"CLM_ID\", \"new_column\": \"claim_id\", \"data_type\": \"string\"},\n",
    "     {\"source_column\": \"CLM_FROM_DT\", \"new_column\": \"claim_start_date\", \"data_type\": \"string\"},\n",
    "     {\"source_column\": \"CLM_THRU_DT\", \"new_column\": \"claim_end_date\", \"data_type\": \"string\"},\n",
    "     {\"source_column\": \"ICD9_DGNS_CD_1\", \"new_column\": \"claim_diagnosis_code_1\", \"data_type\": \"string\"},\n",
    "     {\"source_column\": \"ICD9_DGNS_CD_2\", \"new_column\": \"claim_diagnosis_code_2\", \"data_type\": \"string\"},\n",
    "     {\"source_column\": \"ICD9_DGNS_CD_3\", \"new_column\": \"claim_diagnosis_code_3\", \"data_type\": \"string\"},\n",
    "     {\"source_column\": \"ICD9_DGNS_CD_4\", \"new_column\": \"claim_diagnosis_code_4\", \"data_type\": \"string\"},\n",
    "     {\"source_column\": \"ICD9_DGNS_CD_5\", \"new_column\": \"claim_diagnosis_code_5\", \"data_type\": \"string\"},\n",
    "     {\"source_column\": \"ICD9_DGNS_CD_6\", \"new_column\": \"claim_diagnosis_code_6\", \"data_type\": \"string\"},\n",
    "     {\"source_column\": \"ICD9_DGNS_CD_7\", \"new_column\": \"claim_diagnosis_code_7\", \"data_type\": \"string\"},\n",
    "     {\"source_column\": \"ICD9_DGNS_CD_8\", \"new_column\": \"claim_diagnosis_code_8\", \"data_type\": \"string\"},\n",
    "     {\"source_column\": \"PRF_PHYSN_NPI_1\", \"new_column\": \"provider_physician_npi_1\", \"data_type\": \"string\"},\n",
    "     {\"source_column\": \"PRF_PHYSN_NPI_2\", \"new_column\": \"provider_physician_npi_2\", \"data_type\": \"string\"},\n",
    "     {\"source_column\": \"PRF_PHYSN_NPI_3\", \"new_column\": \"provider_physician_npi_3\", \"data_type\": \"string\"},\n",
    "     {\"source_column\": \"PRF_PHYSN_NPI_4\", \"new_column\": \"provider_physician_npi_4\", \"data_type\": \"string\"},\n",
    "     {\"source_column\": \"PRF_PHYSN_NPI_5\", \"new_column\": \"provider_physician_npi_5\", \"data_type\": \"string\"},\n",
    "     {\"source_column\": \"PRF_PHYSN_NPI_6\", \"new_column\": \"provider_physician_npi_6\", \"data_type\": \"string\"},\n",
    "     {\"source_column\": \"PRF_PHYSN_NPI_7\", \"new_column\": \"provider_physician_npi_7\", \"data_type\": \"string\"},\n",
    "     {\"source_column\": \"PRF_PHYSN_NPI_8\", \"new_column\": \"provider_physician_npi_8\", \"data_type\": \"string\"},\n",
    "     {\"source_column\": \"PRF_PHYSN_NPI_9\", \"new_column\": \"provider_physician_npi_9\", \"data_type\": \"string\"},\n",
    "     {\"source_column\": \"PRF_PHYSN_NPI_10\", \"new_column\": \"provider_physician_npi_10\", \"data_type\": \"string\"},\n",
    "     {\"source_column\": \"PRF_PHYSN_NPI_11\", \"new_column\": \"provider_physician_npi_11\", \"data_type\": \"string\"},\n",
    "     {\"source_column\": \"PRF_PHYSN_NPI_12\", \"new_column\": \"provider_physician_npi_12\", \"data_type\": \"string\"},\n",
    "     {\"source_column\": \"PRF_PHYSN_NPI_13\", \"new_column\": \"provider_physician_npi_13\", \"data_type\": \"string\"},\n",
    "     {\"source_column\": \"TAX_NUM_1\", \"new_column\": \"provider_insitution_tax_number_1\", \"data_type\": \"string\"},\n",
    "     {\"source_column\": \"TAX_NUM_2\", \"new_column\": \"provider_insitution_tax_number_2\", \"data_type\": \"string\"},\n",
    "     {\"source_column\": \"TAX_NUM_3\", \"new_column\": \"provider_insitution_tax_number_3\", \"data_type\": \"string\"},\n",
    "     {\"source_column\": \"TAX_NUM_4\", \"new_column\": \"provider_insitution_tax_number_4\", \"data_type\": \"string\"},\n",
    "     {\"source_column\": \"TAX_NUM_5\", \"new_column\": \"provider_insitution_tax_number_5\", \"data_type\": \"string\"},\n",
    "     {\"source_column\": \"TAX_NUM_6\", \"new_column\": \"provider_insitution_tax_number_6\", \"data_type\": \"string\"},\n",
    "     {\"source_column\": \"TAX_NUM_7\", \"new_column\": \"provider_insitution_tax_number_7\", \"data_type\": \"string\"},\n",
    "     {\"source_column\": \"TAX_NUM_8\", \"new_column\": \"provider_insitution_tax_number_8\", \"data_type\": \"string\"},\n",
    "     {\"source_column\": \"TAX_NUM_9\", \"new_column\": \"provider_insitution_tax_number_9\", \"data_type\": \"string\"},\n",
    "     {\"source_column\": \"TAX_NUM_10\", \"new_column\": \"provider_insitution_tax_number_10\", \"data_type\": \"string\"},\n",
    "     {\"source_column\": \"TAX_NUM_11\", \"new_column\": \"provider_insitution_tax_number_11\", \"data_type\": \"string\"},\n",
    "     {\"source_column\": \"TAX_NUM_12\", \"new_column\": \"provider_insitution_tax_number_12\", \"data_type\": \"string\"},\n",
    "     {\"source_column\": \"TAX_NUM_13\", \"new_column\": \"provider_insitution_tax_number_13\", \"data_type\": \"string\"},\n",
    "     {\"source_column\": \"HCPCS_CD_1\", \"new_column\": \"hcpcs_code_1\", \"data_type\": \"string\"},\n",
    "     {\"source_column\": \"HCPCS_CD_2\", \"new_column\": \"hcpcs_code_2\", \"data_type\": \"string\"},\n",
    "     {\"source_column\": \"HCPCS_CD_3\", \"new_column\": \"hcpcs_code_3\", \"data_type\": \"string\"},\n",
    "     {\"source_column\": \"HCPCS_CD_4\", \"new_column\": \"hcpcs_code_4\", \"data_type\": \"string\"},\n",
    "     {\"source_column\": \"HCPCS_CD_5\", \"new_column\": \"hcpcs_code_5\", \"data_type\": \"string\"},\n",
    "     {\"source_column\": \"HCPCS_CD_6\", \"new_column\": \"hcpcs_code_6\", \"data_type\": \"string\"},\n",
    "     {\"source_column\": \"HCPCS_CD_7\", \"new_column\": \"hcpcs_code_7\", \"data_type\": \"string\"},\n",
    "     {\"source_column\": \"HCPCS_CD_8\", \"new_column\": \"hcpcs_code_8\", \"data_type\": \"string\"},\n",
    "     {\"source_column\": \"HCPCS_CD_9\", \"new_column\": \"hcpcs_code_9\", \"data_type\": \"string\"},\n",
    "     {\"source_column\": \"HCPCS_CD_10\", \"new_column\": \"hcpcs_code_10\", \"data_type\": \"string\"},\n",
    "     {\"source_column\": \"HCPCS_CD_11\", \"new_column\": \"hcpcs_code_11\", \"data_type\": \"string\"},\n",
    "     {\"source_column\": \"HCPCS_CD_12\", \"new_column\": \"hcpcs_code_12\", \"data_type\": \"string\"},\n",
    "     {\"source_column\": \"HCPCS_CD_13\", \"new_column\": \"hcpcs_code_13\", \"data_type\": \"string\"},\n",
    "     {\"source_column\": \"LINE_NCH_PMT_AMT_1\", \"new_column\": \"nch_payment_amount_1\", \"data_type\": \"double\"},\n",
    "     {\"source_column\": \"LINE_NCH_PMT_AMT_2\", \"new_column\": \"nch_payment_amount_2\", \"data_type\": \"double\"},\n",
    "     {\"source_column\": \"LINE_NCH_PMT_AMT_3\", \"new_column\": \"nch_payment_amount_3\", \"data_type\": \"double\"},\n",
    "     {\"source_column\": \"LINE_NCH_PMT_AMT_4\", \"new_column\": \"nch_payment_amount_4\", \"data_type\": \"double\"},\n",
    "     {\"source_column\": \"LINE_NCH_PMT_AMT_5\", \"new_column\": \"nch_payment_amount_5\", \"data_type\": \"double\"},\n",
    "     {\"source_column\": \"LINE_NCH_PMT_AMT_6\", \"new_column\": \"nch_payment_amount_6\", \"data_type\": \"double\"},\n",
    "     {\"source_column\": \"LINE_NCH_PMT_AMT_7\", \"new_column\": \"nch_payment_amount_7\", \"data_type\": \"double\"},\n",
    "     {\"source_column\": \"LINE_NCH_PMT_AMT_8\", \"new_column\": \"nch_payment_amount_8\", \"data_type\": \"double\"},\n",
    "     {\"source_column\": \"LINE_NCH_PMT_AMT_9\", \"new_column\": \"nch_payment_amount_9\", \"data_type\": \"double\"},\n",
    "     {\"source_column\": \"LINE_NCH_PMT_AMT_10\", \"new_column\": \"nch_payment_amount_10\", \"data_type\": \"double\"},\n",
    "     {\"source_column\": \"LINE_NCH_PMT_AMT_11\", \"new_column\": \"nch_payment_amount_11\", \"data_type\": \"double\"},\n",
    "     {\"source_column\": \"LINE_NCH_PMT_AMT_12\", \"new_column\": \"nch_payment_amount_12\", \"data_type\": \"double\"},\n",
    "     {\"source_column\": \"LINE_NCH_PMT_AMT_13\", \"new_column\": \"nch_payment_amount_13\", \"data_type\": \"double\"},\n",
    "     {\"source_column\": \"LINE_BENE_PTB_DDCTBL_AMT_1\", \"new_column\": \"line_beneficiary_part_b_deductable_amount_1\", \"data_type\": \"double\"},\n",
    "     {\"source_column\": \"LINE_BENE_PTB_DDCTBL_AMT_2\", \"new_column\": \"line_beneficiary_part_b_deductable_amount_2\", \"data_type\": \"double\"},\n",
    "     {\"source_column\": \"LINE_BENE_PTB_DDCTBL_AMT_3\", \"new_column\": \"line_beneficiary_part_b_deductable_amount_3\", \"data_type\": \"double\"},\n",
    "     {\"source_column\": \"LINE_BENE_PTB_DDCTBL_AMT_4\", \"new_column\": \"line_beneficiary_part_b_deductable_amount_4\", \"data_type\": \"double\"},\n",
    "     {\"source_column\": \"LINE_BENE_PTB_DDCTBL_AMT_5\", \"new_column\": \"line_beneficiary_part_b_deductable_amount_5\", \"data_type\": \"double\"},\n",
    "     {\"source_column\": \"LINE_BENE_PTB_DDCTBL_AMT_6\", \"new_column\": \"line_beneficiary_part_b_deductable_amount_6\", \"data_type\": \"double\"},\n",
    "     {\"source_column\": \"LINE_BENE_PTB_DDCTBL_AMT_7\", \"new_column\": \"line_beneficiary_part_b_deductable_amount_7\", \"data_type\": \"double\"},\n",
    "     {\"source_column\": \"LINE_BENE_PTB_DDCTBL_AMT_8\", \"new_column\": \"line_beneficiary_part_b_deductable_amount_8\", \"data_type\": \"double\"},\n",
    "     {\"source_column\": \"LINE_BENE_PTB_DDCTBL_AMT_9\", \"new_column\": \"line_beneficiary_part_b_deductable_amount_9\", \"data_type\": \"double\"},\n",
    "     {\"source_column\": \"LINE_BENE_PTB_DDCTBL_AMT_10\", \"new_column\": \"line_beneficiary_part_b_deductable_amount_10\", \"data_type\": \"double\"},\n",
    "     {\"source_column\": \"LINE_BENE_PTB_DDCTBL_AMT_11\", \"new_column\": \"line_beneficiary_part_b_deductable_amount_11\", \"data_type\": \"double\"},\n",
    "     {\"source_column\": \"LINE_BENE_PTB_DDCTBL_AMT_12\", \"new_column\": \"line_beneficiary_part_b_deductable_amount_12\", \"data_type\": \"double\"},\n",
    "     {\"source_column\": \"LINE_BENE_PTB_DDCTBL_AMT_13\", \"new_column\": \"line_beneficiary_part_b_deductable_amount_13\", \"data_type\": \"double\"},\n",
    "     {\"source_column\": \"LINE_BENE_PRMRY_PYR_PD_AMT_1\", \"new_column\": \"line_beneficiary_primary_payer_paid_amount_1\", \"data_type\": \"double\"},\n",
    "     {\"source_column\": \"LINE_BENE_PRMRY_PYR_PD_AMT_2\", \"new_column\": \"line_beneficiary_primary_payer_paid_amount_2\", \"data_type\": \"double\"},\n",
    "     {\"source_column\": \"LINE_BENE_PRMRY_PYR_PD_AMT_3\", \"new_column\": \"line_beneficiary_primary_payer_paid_amount_3\", \"data_type\": \"double\"},\n",
    "     {\"source_column\": \"LINE_BENE_PRMRY_PYR_PD_AMT_4\", \"new_column\": \"line_beneficiary_primary_payer_paid_amount_4\", \"data_type\": \"double\"},\n",
    "     {\"source_column\": \"LINE_BENE_PRMRY_PYR_PD_AMT_5\", \"new_column\": \"line_beneficiary_primary_payer_paid_amount_5\", \"data_type\": \"double\"},\n",
    "     {\"source_column\": \"LINE_BENE_PRMRY_PYR_PD_AMT_6\", \"new_column\": \"line_beneficiary_primary_payer_paid_amount_6\", \"data_type\": \"double\"},\n",
    "     {\"source_column\": \"LINE_BENE_PRMRY_PYR_PD_AMT_7\", \"new_column\": \"line_beneficiary_primary_payer_paid_amount_7\", \"data_type\": \"double\"},\n",
    "     {\"source_column\": \"LINE_BENE_PRMRY_PYR_PD_AMT_8\", \"new_column\": \"line_beneficiary_primary_payer_paid_amount_8\", \"data_type\": \"double\"},\n",
    "     {\"source_column\": \"LINE_BENE_PRMRY_PYR_PD_AMT_9\", \"new_column\": \"line_beneficiary_primary_payer_paid_amount_9\", \"data_type\": \"double\"},\n",
    "     {\"source_column\": \"LINE_BENE_PRMRY_PYR_PD_AMT_10\", \"new_column\": \"line_beneficiary_primary_payer_paid_amount_10\", \"data_type\": \"double\"},\n",
    "     {\"source_column\": \"LINE_BENE_PRMRY_PYR_PD_AMT_11\", \"new_column\": \"line_beneficiary_primary_payer_paid_amount_11\", \"data_type\": \"double\"},\n",
    "     {\"source_column\": \"LINE_BENE_PRMRY_PYR_PD_AMT_12\", \"new_column\": \"line_beneficiary_primary_payer_paid_amount_12\", \"data_type\": \"double\"},\n",
    "     {\"source_column\": \"LINE_BENE_PRMRY_PYR_PD_AMT_13\", \"new_column\": \"line_beneficiary_primary_payer_paid_amount_13\", \"data_type\": \"double\"},\n",
    "     {\"source_column\": \"LINE_COINSRNC_AMT_1\", \"new_column\": \"line_coinsurance_amount_1\", \"data_type\": \"double\"},\n",
    "     {\"source_column\": \"LINE_COINSRNC_AMT_2\", \"new_column\": \"line_coinsurance_amount_2\", \"data_type\": \"double\"},\n",
    "     {\"source_column\": \"LINE_COINSRNC_AMT_3\", \"new_column\": \"line_coinsurance_amount_3\", \"data_type\": \"double\"},\n",
    "     {\"source_column\": \"LINE_COINSRNC_AMT_4\", \"new_column\": \"line_coinsurance_amount_4\", \"data_type\": \"double\"},\n",
    "     {\"source_column\": \"LINE_COINSRNC_AMT_5\", \"new_column\": \"line_coinsurance_amount_5\", \"data_type\": \"double\"},\n",
    "     {\"source_column\": \"LINE_COINSRNC_AMT_6\", \"new_column\": \"line_coinsurance_amount_6\", \"data_type\": \"double\"},\n",
    "     {\"source_column\": \"LINE_COINSRNC_AMT_7\", \"new_column\": \"line_coinsurance_amount_7\", \"data_type\": \"double\"},\n",
    "     {\"source_column\": \"LINE_COINSRNC_AMT_8\", \"new_column\": \"line_coinsurance_amount_8\", \"data_type\": \"double\"},\n",
    "     {\"source_column\": \"LINE_COINSRNC_AMT_9\", \"new_column\": \"line_coinsurance_amount_9\", \"data_type\": \"double\"},\n",
    "     {\"source_column\": \"LINE_COINSRNC_AMT_10\", \"new_column\": \"line_coinsurance_amount_10\", \"data_type\": \"double\"},\n",
    "     {\"source_column\": \"LINE_COINSRNC_AMT_11\", \"new_column\": \"line_coinsurance_amount_11\", \"data_type\": \"double\"},\n",
    "     {\"source_column\": \"LINE_COINSRNC_AMT_12\", \"new_column\": \"line_coinsurance_amount_12\", \"data_type\": \"double\"},\n",
    "     {\"source_column\": \"LINE_COINSRNC_AMT_13\", \"new_column\": \"line_coinsurance_amount_13\", \"data_type\": \"double\"},\n",
    "     {\"source_column\": \"LINE_ALOWD_CHRG_AMT_1\", \"new_column\": \"line_allowed_charge_amount_1\", \"data_type\": \"double\"},\n",
    "     {\"source_column\": \"LINE_ALOWD_CHRG_AMT_2\", \"new_column\": \"line_allowed_charge_amount_2\", \"data_type\": \"double\"},\n",
    "     {\"source_column\": \"LINE_ALOWD_CHRG_AMT_3\", \"new_column\": \"line_allowed_charge_amount_3\", \"data_type\": \"double\"},\n",
    "     {\"source_column\": \"LINE_ALOWD_CHRG_AMT_4\", \"new_column\": \"line_allowed_charge_amount_4\", \"data_type\": \"double\"},\n",
    "     {\"source_column\": \"LINE_ALOWD_CHRG_AMT_5\", \"new_column\": \"line_allowed_charge_amount_5\", \"data_type\": \"double\"},\n",
    "     {\"source_column\": \"LINE_ALOWD_CHRG_AMT_6\", \"new_column\": \"line_allowed_charge_amount_6\", \"data_type\": \"double\"},\n",
    "     {\"source_column\": \"LINE_ALOWD_CHRG_AMT_7\", \"new_column\": \"line_allowed_charge_amount_7\", \"data_type\": \"double\"},\n",
    "     {\"source_column\": \"LINE_ALOWD_CHRG_AMT_8\", \"new_column\": \"line_allowed_charge_amount_8\", \"data_type\": \"double\"},\n",
    "     {\"source_column\": \"LINE_ALOWD_CHRG_AMT_9\", \"new_column\": \"line_allowed_charge_amount_9\", \"data_type\": \"double\"},\n",
    "     {\"source_column\": \"LINE_ALOWD_CHRG_AMT_10\", \"new_column\": \"line_allowed_charge_amount_10\", \"data_type\": \"double\"},\n",
    "     {\"source_column\": \"LINE_ALOWD_CHRG_AMT_11\", \"new_column\": \"line_allowed_charge_amount_11\", \"data_type\": \"double\"},\n",
    "     {\"source_column\": \"LINE_ALOWD_CHRG_AMT_12\", \"new_column\": \"line_allowed_charge_amount_12\", \"data_type\": \"double\"},\n",
    "     {\"source_column\": \"LINE_ALOWD_CHRG_AMT_13\", \"new_column\": \"line_allowed_charge_amount_13\", \"data_type\": \"double\"},\n",
    "     {\"source_column\": \"LINE_PRCSG_IND_CD_1\", \"new_column\": \"line_processing_indicator_code_1\", \"data_type\": \"string\"},\n",
    "     {\"source_column\": \"LINE_PRCSG_IND_CD_2\", \"new_column\": \"line_processing_indicator_code_2\", \"data_type\": \"string\"},\n",
    "     {\"source_column\": \"LINE_PRCSG_IND_CD_3\", \"new_column\": \"line_processing_indicator_code_3\", \"data_type\": \"string\"},\n",
    "     {\"source_column\": \"LINE_PRCSG_IND_CD_4\", \"new_column\": \"line_processing_indicator_code_4\", \"data_type\": \"string\"},\n",
    "     {\"source_column\": \"LINE_PRCSG_IND_CD_5\", \"new_column\": \"line_processing_indicator_code_5\", \"data_type\": \"string\"},\n",
    "     {\"source_column\": \"LINE_PRCSG_IND_CD_6\", \"new_column\": \"line_processing_indicator_code_6\", \"data_type\": \"string\"},\n",
    "     {\"source_column\": \"LINE_PRCSG_IND_CD_7\", \"new_column\": \"line_processing_indicator_code_7\", \"data_type\": \"string\"},\n",
    "     {\"source_column\": \"LINE_PRCSG_IND_CD_8\", \"new_column\": \"line_processing_indicator_code_8\", \"data_type\": \"string\"},\n",
    "     {\"source_column\": \"LINE_PRCSG_IND_CD_9\", \"new_column\": \"line_processing_indicator_code_9\", \"data_type\": \"string\"},\n",
    "     {\"source_column\": \"LINE_PRCSG_IND_CD_10\", \"new_column\": \"line_processing_indicator_code_10\", \"data_type\": \"string\"},\n",
    "     {\"source_column\": \"LINE_PRCSG_IND_CD_11\", \"new_column\": \"line_processing_indicator_code_11\", \"data_type\": \"string\"},\n",
    "     {\"source_column\": \"LINE_PRCSG_IND_CD_12\", \"new_column\": \"line_processing_indicator_code_12\", \"data_type\": \"string\"},\n",
    "     {\"source_column\": \"LINE_PRCSG_IND_CD_13\", \"new_column\": \"line_processing_indicator_code_13\", \"data_type\": \"string\"},\n",
    "     {\"source_column\": \"LINE_ICD9_DGNS_CD_1\", \"new_column\": \"line_icd9_diagnosis_code_1\", \"data_type\": \"string\"},\n",
    "     {\"source_column\": \"LINE_ICD9_DGNS_CD_2\", \"new_column\": \"line_icd9_diagnosis_code_2\", \"data_type\": \"string\"},\n",
    "     {\"source_column\": \"LINE_ICD9_DGNS_CD_3\", \"new_column\": \"line_icd9_diagnosis_code_3\", \"data_type\": \"string\"},\n",
    "     {\"source_column\": \"LINE_ICD9_DGNS_CD_4\", \"new_column\": \"line_icd9_diagnosis_code_4\", \"data_type\": \"string\"},\n",
    "     {\"source_column\": \"LINE_ICD9_DGNS_CD_5\", \"new_column\": \"line_icd9_diagnosis_code_5\", \"data_type\": \"string\"},\n",
    "     {\"source_column\": \"LINE_ICD9_DGNS_CD_6\", \"new_column\": \"line_icd9_diagnosis_code_6\", \"data_type\": \"string\"},\n",
    "     {\"source_column\": \"LINE_ICD9_DGNS_CD_7\", \"new_column\": \"line_icd9_diagnosis_code_7\", \"data_type\": \"string\"},\n",
    "     {\"source_column\": \"LINE_ICD9_DGNS_CD_8\", \"new_column\": \"line_icd9_diagnosis_code_8\", \"data_type\": \"string\"},\n",
    "     {\"source_column\": \"LINE_ICD9_DGNS_CD_9\", \"new_column\": \"line_icd9_diagnosis_code_9\", \"data_type\": \"string\"},\n",
    "     {\"source_column\": \"LINE_ICD9_DGNS_CD_10\", \"new_column\": \"line_icd9_diagnosis_code_10\", \"data_type\": \"string\"},\n",
    "     {\"source_column\": \"LINE_ICD9_DGNS_CD_11\", \"new_column\": \"line_icd9_diagnosis_code_11\", \"data_type\": \"string\"},\n",
    "     {\"source_column\": \"LINE_ICD9_DGNS_CD_12\", \"new_column\": \"line_icd9_diagnosis_code_12\", \"data_type\": \"string\"},\n",
    "     {\"source_column\": \"LINE_ICD9_DGNS_CD_13\", \"new_column\": \"line_icd9_diagnosis_code_13\", \"data_type\": \"string\"}\n",
    "     ]'''\n",
    ",''\n",
    ",'claim_id'\n",
    ",'insert_timestamp'\n",
    ",''\n",
    ",1\n",
    ")"
   ]
  },
  {
   "cell_type": "code",
   "execution_count": 0,
   "metadata": {
    "application/vnd.databricks.v1+cell": {
     "cellMetadata": {
      "byteLimit": 2048000,
      "rowLimit": 10000
     },
     "inputWidgets": {},
     "nuid": "6ccbc025-8ca0-4bbd-8b2f-72d32ae5068a",
     "showTitle": false,
     "tableResultSettingsMap": {},
     "title": ""
    }
   },
   "outputs": [],
   "source": [
    "select * from metadata_framework.metadata"
   ]
  },
  {
   "cell_type": "code",
   "execution_count": 0,
   "metadata": {
    "application/vnd.databricks.v1+cell": {
     "cellMetadata": {
      "byteLimit": 2048000,
      "rowLimit": 10000
     },
     "inputWidgets": {},
     "nuid": "5241151b-d6e8-4572-98a9-a0952235d8b4",
     "showTitle": false,
     "tableResultSettingsMap": {},
     "title": ""
    }
   },
   "outputs": [],
   "source": []
  }
 ],
 "metadata": {
  "application/vnd.databricks.v1+notebook": {
   "computePreferences": null,
   "dashboards": [],
   "environmentMetadata": {
    "base_environment": "",
    "environment_version": "2"
   },
   "language": "sql",
   "notebookMetadata": {
    "pythonIndentUnit": 2
   },
   "notebookName": "generate metadata table",
   "widgets": {}
  },
  "language_info": {
   "name": "sql"
  }
 },
 "nbformat": 4,
 "nbformat_minor": 0
}
