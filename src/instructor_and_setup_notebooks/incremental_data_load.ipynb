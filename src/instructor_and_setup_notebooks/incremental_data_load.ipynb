{
 "cells": [
  {
   "cell_type": "code",
   "execution_count": 0,
   "metadata": {
    "application/vnd.databricks.v1+cell": {
     "cellMetadata": {
      "byteLimit": 2048000,
      "rowLimit": 10000
     },
     "inputWidgets": {},
     "nuid": "9037f36f-87bf-4cf7-8a15-8576797f2ee6",
     "showTitle": false,
     "tableResultSettingsMap": {},
     "title": ""
    }
   },
   "outputs": [],
   "source": [
    "dbutils.widgets.dropdown(\"files\", \"1\", [\"1\", \"2\", \"3\", \"4\", \"5\", \"6\",\"7\",\"8\",\"9\",\"10\",\"11\",\"12\",\"13\",\"14\",\"15\",\"16\",\"17\",\"18\",\"19\",\"20\"])"
   ]
  },
  {
   "cell_type": "code",
   "execution_count": 0,
   "metadata": {
    "application/vnd.databricks.v1+cell": {
     "cellMetadata": {
      "byteLimit": 2048000,
      "rowLimit": 10000
     },
     "inputWidgets": {},
     "nuid": "b72a1114-0974-4e2f-92ac-e91a4ed70bb2",
     "showTitle": false,
     "tableResultSettingsMap": {},
     "title": ""
    }
   },
   "outputs": [],
   "source": [
    "files_to_process = dbutils.widgets.get(\"files\")\n",
    "print(files_to_process)"
   ]
  },
  {
   "cell_type": "code",
   "execution_count": 0,
   "metadata": {
    "application/vnd.databricks.v1+cell": {
     "cellMetadata": {
      "byteLimit": 2048000,
      "rowLimit": 10000
     },
     "inputWidgets": {},
     "nuid": "4c75cd96-b0ec-4b62-8579-952e6f3e7e5f",
     "showTitle": true,
     "tableResultSettingsMap": {},
     "title": "Benefit Summary"
    }
   },
   "outputs": [],
   "source": [
    "#2008_Beneficiary_Summary_File_Sample\n",
    "dbutils.fs.cp(f'/Volumes/hls_de_workshop_dev/bronze/raw_data/all_data/beneficiary/DE1_0_2008_Beneficiary_Summary_File_Sample_{files_to_process}.csv',f'/Volumes/hls_de_workshop_dev/bronze/raw_data/beneficiary_summary//DE1_0_2008_Beneficiary_File_Sample_{files_to_process}.csv')\n",
    "\n",
    "#2009_Beneficiary_Summary_File_Sample\n",
    "dbutils.fs.cp(f'/Volumes/hls_de_workshop_dev/bronze/raw_data/all_data/beneficiary/DE1_0_2009_Beneficiary_Summary_File_Sample_{files_to_process}.csv',f'/Volumes/hls_de_workshop_dev/bronze/raw_data/beneficiary/DE1_0_2009_Beneficiary_Summary_File_Sample_{files_to_process}.csv')\n",
    "\n",
    "#2010_Beneficiary_Summary_File_Sample\n",
    "dbutils.fs.cp(f'/Volumes/hls_de_workshop_dev/bronze/raw_data/all_data/beneficiary/DE1_0_2010_Beneficiary_Summary_File_Sample_{files_to_process}.csv',f'/Volumes/hls_de_workshop_dev/bronze/raw_data/beneficiary/DE1_0_2010_Beneficiary_Summary_File_Sample_{files_to_process}.csv')"
   ]
  },
  {
   "cell_type": "code",
   "execution_count": 0,
   "metadata": {
    "application/vnd.databricks.v1+cell": {
     "cellMetadata": {
      "byteLimit": 2048000,
      "rowLimit": 10000
     },
     "inputWidgets": {},
     "nuid": "1b495383-426a-4e42-a9a0-43aa58331274",
     "showTitle": true,
     "tableResultSettingsMap": {},
     "title": "Inpatient Claims"
    }
   },
   "outputs": [],
   "source": [
    "dbutils.fs.cp(f'/Volumes/hls_de_workshop_dev/bronze/raw_data/all_data/inpatient_claims/DE1_0_2008_to_2010_Inpatient_Claims_Sample_{files_to_process}.csv',f'/Volumes/hls_de_workshop_dev/bronze/raw_data/inpatient_claims/DE1_0_2008_to_2010_Inpatient_Claims_Sample_{files_to_process}.csv')"
   ]
  },
  {
   "cell_type": "code",
   "execution_count": 0,
   "metadata": {
    "application/vnd.databricks.v1+cell": {
     "cellMetadata": {
      "byteLimit": 2048000,
      "rowLimit": 10000
     },
     "inputWidgets": {},
     "nuid": "f1386b2c-c754-403d-aa49-aaabf4f86739",
     "showTitle": true,
     "tableResultSettingsMap": {},
     "title": "Outpatient Claims"
    }
   },
   "outputs": [],
   "source": [
    "dbutils.fs.cp(f'/Volumes/hls_de_workshop_dev/bronze/raw_data/all_data/outpatient_claims/DE1_0_2008_to_2010_Outpatient_Claims_Sample_{files_to_process}.csv',f'/Volumes/hls_de_workshop_dev/bronze/raw_data/outpatient_claims/outpatient_claims/DE1_0_2008_to_2010_Outpatient_Claims_Sample_{files_to_process}.csv')"
   ]
  },
  {
   "cell_type": "code",
   "execution_count": 0,
   "metadata": {
    "application/vnd.databricks.v1+cell": {
     "cellMetadata": {
      "byteLimit": 2048000,
      "rowLimit": 10000
     },
     "inputWidgets": {},
     "nuid": "113b96cf-1c88-4b81-91cf-277740b945b0",
     "showTitle": true,
     "tableResultSettingsMap": {},
     "title": "Prescription Drug Events"
    }
   },
   "outputs": [],
   "source": [
    "dbutils.fs.cp(f'/Volumes/hls_de_workshop_dev/bronze/raw_data/all_data/prescription_drug_events/DE1_0_2008_to_2010_Prescription_Drug_Events_Sample_{files_to_process}.csv',f'/Volumes/hls_de_workshop_dev/bronze/raw_data/prescription_drug_events/DE1_0_2008_to_2010_Prescription_Drug_Events_Sample_{files_to_process}.csv')"
   ]
  },
  {
   "cell_type": "code",
   "execution_count": 0,
   "metadata": {
    "application/vnd.databricks.v1+cell": {
     "cellMetadata": {
      "byteLimit": 2048000,
      "rowLimit": 10000
     },
     "inputWidgets": {},
     "nuid": "e3b2909d-868e-4590-951e-b9cded822313",
     "showTitle": true,
     "tableResultSettingsMap": {},
     "title": "Carrier Claims"
    }
   },
   "outputs": [],
   "source": [
    "#Carrier_Claims_Sample_A\n",
    "dbutils.fs.cp(f'/Volumes/hls_de_workshop_dev/bronze/raw_data/all_data/carrier_claims/DE1_0_2008_to_2010_Carrier_Claims_Sample_{files_to_process}A.csv',f'/Volumes/hls_de_workshop_dev/bronze/raw_data/carrier_claims/DE1_0_2008_to_2010_Carrier_Claims_Sample_{files_to_process}A.csv')\n",
    "\n",
    "#Carrier_Claims_Sample_B\n",
    "dbutils.fs.cp(f'/Volumes/hls_de_workshop_dev/bronze/raw_data/all_data/carrier_claims/DE1_0_2008_to_2010_Carrier_Claims_Sample_{files_to_process}B.csv',f'/Volumes/hls_de_workshop_dev/bronze/raw_data/carrier_claims/DE1_0_2008_to_2010_Carrier_Claims_Sample_{files_to_process}B.csv')"
   ]
  }
 ],
 "metadata": {
  "application/vnd.databricks.v1+notebook": {
   "computePreferences": null,
   "dashboards": [],
   "environmentMetadata": {
    "base_environment": "",
    "environment_version": "2"
   },
   "language": "python",
   "notebookMetadata": {
    "pythonIndentUnit": 2
   },
   "notebookName": "incremental_data_load",
   "widgets": {
    "files": {
     "currentValue": "2",
     "nuid": "68372a59-cbf5-406f-8a77-e94c49ea6040",
     "typedWidgetInfo": {
      "autoCreated": false,
      "defaultValue": "1",
      "label": null,
      "name": "files",
      "options": {
       "widgetDisplayType": "Dropdown",
       "choices": [
        "1",
        "2",
        "3",
        "4",
        "5",
        "6",
        "7",
        "8",
        "9",
        "10",
        "11",
        "12",
        "13",
        "14",
        "15",
        "16",
        "17",
        "18",
        "19",
        "20"
       ],
       "fixedDomain": true,
       "multiselect": false
      },
      "parameterDataType": "String"
     },
     "widgetInfo": {
      "widgetType": "dropdown",
      "defaultValue": "1",
      "label": null,
      "name": "files",
      "options": {
       "widgetType": "dropdown",
       "autoCreated": null,
       "choices": [
        "1",
        "2",
        "3",
        "4",
        "5",
        "6",
        "7",
        "8",
        "9",
        "10",
        "11",
        "12",
        "13",
        "14",
        "15",
        "16",
        "17",
        "18",
        "19",
        "20"
       ]
      }
     }
    }
   }
  },
  "language_info": {
   "name": "python"
  }
 },
 "nbformat": 4,
 "nbformat_minor": 0
}
