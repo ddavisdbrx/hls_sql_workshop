{
 "cells": [
  {
   "cell_type": "code",
   "execution_count": 0,
   "metadata": {
    "application/vnd.databricks.v1+cell": {
     "cellMetadata": {
      "byteLimit": 10485760,
      "rowLimit": 64000
     },
     "inputWidgets": {},
     "nuid": "923b4e83-bf3a-44af-be0f-32736224f431",
     "showTitle": false,
     "tableResultSettingsMap": {},
     "title": ""
    }
   },
   "outputs": [],
   "source": [
    "-- Declare variable\n",
    "DECLARE OR REPLACE VARIABLE year STRING DEFAULT '2000';\n",
    "\n",
    "-- Set the value of the variable\n",
    "SET VARIABLE year =:`year`;\n",
    "\n",
    "\n",
    "SELECT distinct year(claim_start_date)\n",
    "    FROM ddavis_hls_sql.gold.fact_carrier_claims\n",
    "    WHERE year(claim_start_date) = :year"
   ]
  }
 ],
 "metadata": {
  "application/vnd.databricks.v1+notebook": {
   "computePreferences": null,
   "dashboards": [],
   "environmentMetadata": null,
   "language": "sql",
   "notebookMetadata": {
    "pythonIndentUnit": 2,
    "sqlQueryOptions": {
     "applyAutoLimit": false,
     "catalog": "shared",
     "schema": "a9o"
    }
   },
   "notebookName": "load_target_table.dbquery.ipynb",
   "widgets": {
    "year": {
     "currentValue": "2009",
     "nuid": "99b955d5-fb40-4f6e-9d6a-f0410139f21b",
     "typedWidgetInfo": {
      "autoCreated": true,
      "defaultValue": "",
      "label": null,
      "name": "year",
      "options": {
       "widgetDisplayType": "Text",
       "validationRegex": null
      },
      "parameterDataType": "String"
     },
     "widgetInfo": {
      "widgetType": "text",
      "defaultValue": "",
      "label": null,
      "name": "year",
      "options": {
       "widgetType": "text",
       "autoCreated": true,
       "validationRegex": null
      }
     }
    }
   }
  },
  "language_info": {
   "name": "sql"
  }
 },
 "nbformat": 4,
 "nbformat_minor": 0
}
